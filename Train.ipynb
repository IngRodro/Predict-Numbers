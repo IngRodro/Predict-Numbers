{
 "cells": [
  {
   "cell_type": "code",
   "execution_count": null,
   "metadata": {},
   "outputs": [],
   "source": [
    "%pip install tensorflow\n",
    "%pip install tensorflow-gpu\n",
    "%pip install tensorflow_datasets\n",
    "%pip install tensorflowjs"
   ]
  },
  {
   "cell_type": "code",
   "execution_count": 2,
   "metadata": {},
   "outputs": [],
   "source": [
    "import tensorflow as tf\n",
    "from keras.datasets import mnist\n",
    "import numpy as np\n",
    "from keras.utils import to_categorical\n",
    "\n",
    "# Cargar los datos de MNIST\n",
    "(X_entrenamiento, Y_entrenamiento), (X_pruebas, Y_pruebas) = mnist.load_data()"
   ]
  },
  {
   "cell_type": "code",
   "execution_count": 3,
   "metadata": {},
   "outputs": [],
   "source": [
    "X_entrenamiento = X_entrenamiento.reshape(X_entrenamiento.shape[0], 28, 28, 1)\n",
    "X_pruebas = X_pruebas.reshape(X_pruebas.shape[0], 28, 28, 1)\n",
    "\n",
    "Y_entrenamiento = to_categorical(Y_entrenamiento)\n",
    "Y_pruebas = to_categorical(Y_pruebas)\n",
    "\n",
    "X_entrenamiento = X_entrenamiento.astype('float32') / 255\n",
    "X_pruebas = X_pruebas.astype('float32') / 255"
   ]
  },
  {
   "cell_type": "code",
   "execution_count": null,
   "metadata": {},
   "outputs": [],
   "source": [
    "import matplotlib.pyplot as plt\n",
    "filas = 10\n",
    "columnas = 8\n",
    "num = filas*columnas\n",
    "imagenes = X_entrenamiento[0:num]\n",
    "etiquetas = Y_entrenamiento[0:num]\n",
    "fig, axes = plt.subplots(filas, columnas, figsize=(1.5*columnas,2*filas))\n",
    "for i in range(num):\n",
    "     ax = axes[i//columnas, i%columnas]\n",
    "     ax.imshow(imagenes[i].reshape(28,28), cmap='gray_r')\n",
    "     ax.set_title('Label: {}'.format(np.argmax(etiquetas[i])))\n",
    "plt.tight_layout()\n",
    "plt.show()"
   ]
  },
  {
   "cell_type": "code",
   "execution_count": 10,
   "metadata": {},
   "outputs": [],
   "source": [
    "from keras.preprocessing.image import ImageDataGenerator\n",
    "\n",
    "rango_rotacion = 30\n",
    "mov_ancho = 0.25\n",
    "mov_alto = 0.25\n",
    "rango_acercamiento=[0.5,1.5]\n",
    "\n",
    "datagen = ImageDataGenerator(\n",
    "    rotation_range = rango_rotacion,\n",
    "    width_shift_range = mov_ancho,\n",
    "    height_shift_range = mov_alto,\n",
    "    zoom_range=rango_acercamiento,\n",
    ")\n",
    "\n",
    "datagen.fit(X_entrenamiento)"
   ]
  },
  {
   "cell_type": "code",
   "execution_count": null,
   "metadata": {},
   "outputs": [],
   "source": [
    "filas = 4\n",
    "columnas = 8\n",
    "num = filas*columnas\n",
    "print('ANTES:\\n')\n",
    "fig1, axes1 = plt.subplots(filas, columnas, figsize=(1.5*columnas,2*filas))\n",
    "for i in range(num):\n",
    "     ax = axes1[i//columnas, i%columnas]\n",
    "     ax.imshow(X_entrenamiento[i].reshape(28,28), cmap='gray_r')\n",
    "     ax.set_title('Label: {}'.format(np.argmax(Y_entrenamiento[i])))\n",
    "plt.tight_layout()\n",
    "plt.show()\n",
    "print('DESPUES:\\n')\n",
    "fig2, axes2 = plt.subplots(filas, columnas, figsize=(1.5*columnas,2*filas))\n",
    "for X, Y in datagen.flow(X_entrenamiento,Y_entrenamiento.reshape(Y_entrenamiento.shape[0], 10),batch_size=num,shuffle=False):\n",
    "     for i in range(0, num):\n",
    "          ax = axes2[i//columnas, i%columnas]\n",
    "          ax.imshow(X[i].reshape(28,28), cmap='gray_r')\n",
    "          ax.set_title('Label: {}'.format(int(np.argmax(Y[i]))))\n",
    "     break\n",
    "plt.tight_layout()\n",
    "plt.show()"
   ]
  },
  {
   "cell_type": "code",
   "execution_count": 12,
   "metadata": {},
   "outputs": [],
   "source": [
    "modelo = tf.keras.models.Sequential([\n",
    "    tf.keras.layers.Conv2D(32, (3,3), activation='relu', input_shape=(28, 28, 1)),\n",
    "    tf.keras.layers.MaxPooling2D(2, 2),\n",
    "\n",
    "    tf.keras.layers.Conv2D(64, (3,3), activation='relu'),\n",
    "    tf.keras.layers.MaxPooling2D(2,2),\n",
    "\n",
    "    tf.keras.layers.Dropout(0.5),\n",
    "    tf.keras.layers.Flatten(),\n",
    "    tf.keras.layers.Dense(100, activation='relu'),\n",
    "    tf.keras.layers.Dense(10, activation=\"softmax\")\n",
    "])\n",
    "\n",
    "modelo.compile(optimizer='adam',\n",
    "              loss='categorical_crossentropy',\n",
    "              metrics=['accuracy'])"
   ]
  },
  {
   "cell_type": "code",
   "execution_count": 13,
   "metadata": {},
   "outputs": [],
   "source": [
    "data_gen_entrenamiento = datagen.flow(X_entrenamiento, Y_entrenamiento, batch_size=32)"
   ]
  },
  {
   "cell_type": "code",
   "execution_count": null,
   "metadata": {},
   "outputs": [],
   "source": [
    "TAMANO_LOTE = 32\n",
    "\n",
    "print(\"Entrenando modelo...\");\n",
    "epocas=500\n",
    "history = modelo.fit(\n",
    "    data_gen_entrenamiento,\n",
    "    epochs=epocas,\n",
    "    batch_size=TAMANO_LOTE,\n",
    "    validation_data=(X_pruebas, Y_pruebas),\n",
    "    steps_per_epoch=int(np.ceil(60000 / float(TAMANO_LOTE))),\n",
    "    validation_steps=int(np.ceil(10000 / float(TAMANO_LOTE)))\n",
    ")\n",
    "\n",
    "print(\"Modelo entrenado!\");"
   ]
  },
  {
   "cell_type": "code",
   "execution_count": 17,
   "metadata": {},
   "outputs": [],
   "source": [
    "modelo.save('numeros.h5')\n",
    "!mkdir carpeta_salida\n",
    "!tensorflowjs_converter --input_format keras numeros.h5 carpeta_salida"
   ]
  }
 ],
 "metadata": {
  "kernelspec": {
   "display_name": "venv",
   "language": "python",
   "name": "python3"
  },
  "language_info": {
   "codemirror_mode": {
    "name": "ipython",
    "version": 3
   },
   "file_extension": ".py",
   "mimetype": "text/x-python",
   "name": "python",
   "nbconvert_exporter": "python",
   "pygments_lexer": "ipython3",
   "version": "3.11.2"
  },
  "orig_nbformat": 4
 },
 "nbformat": 4,
 "nbformat_minor": 2
}
